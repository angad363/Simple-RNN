{
 "cells": [
  {
   "cell_type": "code",
   "execution_count": 1,
   "metadata": {},
   "outputs": [],
   "source": [
    "import numpy as np\n",
    "import tensorflow as tf\n",
    "from tensorflow.keras.datasets import imdb\n",
    "from tensorflow.keras.preprocessing import sequence\n",
    "from tensorflow.keras.models import load_model"
   ]
  },
  {
   "cell_type": "code",
   "execution_count": 2,
   "metadata": {},
   "outputs": [],
   "source": [
    "# Load the IMDB Dataset Word Index\n",
    "word_index = imdb.get_word_index()\n",
    "reverse_word_index = {value: key for key, value in word_index.items()}"
   ]
  },
  {
   "cell_type": "code",
   "execution_count": 3,
   "metadata": {},
   "outputs": [
    {
     "name": "stderr",
     "output_type": "stream",
     "text": [
      "WARNING:absl:Compiled the loaded model, but the compiled metrics have yet to be built. `model.compile_metrics` will be empty until you train or evaluate the model.\n"
     ]
    },
    {
     "data": {
      "text/html": [
       "<pre style=\"white-space:pre;overflow-x:auto;line-height:normal;font-family:Menlo,'DejaVu Sans Mono',consolas,'Courier New',monospace\"><span style=\"font-weight: bold\">Model: \"sequential_10\"</span>\n",
       "</pre>\n"
      ],
      "text/plain": [
       "\u001b[1mModel: \"sequential_10\"\u001b[0m\n"
      ]
     },
     "metadata": {},
     "output_type": "display_data"
    },
    {
     "data": {
      "text/html": [
       "<pre style=\"white-space:pre;overflow-x:auto;line-height:normal;font-family:Menlo,'DejaVu Sans Mono',consolas,'Courier New',monospace\">┏━━━━━━━━━━━━━━━━━━━━━━━━━━━━━━━━━┳━━━━━━━━━━━━━━━━━━━━━━━━┳━━━━━━━━━━━━━━━┓\n",
       "┃<span style=\"font-weight: bold\"> Layer (type)                    </span>┃<span style=\"font-weight: bold\"> Output Shape           </span>┃<span style=\"font-weight: bold\">       Param # </span>┃\n",
       "┡━━━━━━━━━━━━━━━━━━━━━━━━━━━━━━━━━╇━━━━━━━━━━━━━━━━━━━━━━━━╇━━━━━━━━━━━━━━━┩\n",
       "│ embedding_9 (<span style=\"color: #0087ff; text-decoration-color: #0087ff\">Embedding</span>)         │ (<span style=\"color: #00d7ff; text-decoration-color: #00d7ff\">None</span>, <span style=\"color: #00af00; text-decoration-color: #00af00\">500</span>, <span style=\"color: #00af00; text-decoration-color: #00af00\">128</span>)       │     <span style=\"color: #00af00; text-decoration-color: #00af00\">1,280,000</span> │\n",
       "├─────────────────────────────────┼────────────────────────┼───────────────┤\n",
       "│ simple_rnn_17 (<span style=\"color: #0087ff; text-decoration-color: #0087ff\">SimpleRNN</span>)       │ (<span style=\"color: #00d7ff; text-decoration-color: #00d7ff\">None</span>, <span style=\"color: #00af00; text-decoration-color: #00af00\">128</span>)            │        <span style=\"color: #00af00; text-decoration-color: #00af00\">32,896</span> │\n",
       "├─────────────────────────────────┼────────────────────────┼───────────────┤\n",
       "│ dense_12 (<span style=\"color: #0087ff; text-decoration-color: #0087ff\">Dense</span>)                │ (<span style=\"color: #00d7ff; text-decoration-color: #00d7ff\">None</span>, <span style=\"color: #00af00; text-decoration-color: #00af00\">1</span>)              │           <span style=\"color: #00af00; text-decoration-color: #00af00\">129</span> │\n",
       "└─────────────────────────────────┴────────────────────────┴───────────────┘\n",
       "</pre>\n"
      ],
      "text/plain": [
       "┏━━━━━━━━━━━━━━━━━━━━━━━━━━━━━━━━━┳━━━━━━━━━━━━━━━━━━━━━━━━┳━━━━━━━━━━━━━━━┓\n",
       "┃\u001b[1m \u001b[0m\u001b[1mLayer (type)                   \u001b[0m\u001b[1m \u001b[0m┃\u001b[1m \u001b[0m\u001b[1mOutput Shape          \u001b[0m\u001b[1m \u001b[0m┃\u001b[1m \u001b[0m\u001b[1m      Param #\u001b[0m\u001b[1m \u001b[0m┃\n",
       "┡━━━━━━━━━━━━━━━━━━━━━━━━━━━━━━━━━╇━━━━━━━━━━━━━━━━━━━━━━━━╇━━━━━━━━━━━━━━━┩\n",
       "│ embedding_9 (\u001b[38;5;33mEmbedding\u001b[0m)         │ (\u001b[38;5;45mNone\u001b[0m, \u001b[38;5;34m500\u001b[0m, \u001b[38;5;34m128\u001b[0m)       │     \u001b[38;5;34m1,280,000\u001b[0m │\n",
       "├─────────────────────────────────┼────────────────────────┼───────────────┤\n",
       "│ simple_rnn_17 (\u001b[38;5;33mSimpleRNN\u001b[0m)       │ (\u001b[38;5;45mNone\u001b[0m, \u001b[38;5;34m128\u001b[0m)            │        \u001b[38;5;34m32,896\u001b[0m │\n",
       "├─────────────────────────────────┼────────────────────────┼───────────────┤\n",
       "│ dense_12 (\u001b[38;5;33mDense\u001b[0m)                │ (\u001b[38;5;45mNone\u001b[0m, \u001b[38;5;34m1\u001b[0m)              │           \u001b[38;5;34m129\u001b[0m │\n",
       "└─────────────────────────────────┴────────────────────────┴───────────────┘\n"
      ]
     },
     "metadata": {},
     "output_type": "display_data"
    },
    {
     "data": {
      "text/html": [
       "<pre style=\"white-space:pre;overflow-x:auto;line-height:normal;font-family:Menlo,'DejaVu Sans Mono',consolas,'Courier New',monospace\"><span style=\"font-weight: bold\"> Total params: </span><span style=\"color: #00af00; text-decoration-color: #00af00\">1,313,027</span> (5.01 MB)\n",
       "</pre>\n"
      ],
      "text/plain": [
       "\u001b[1m Total params: \u001b[0m\u001b[38;5;34m1,313,027\u001b[0m (5.01 MB)\n"
      ]
     },
     "metadata": {},
     "output_type": "display_data"
    },
    {
     "data": {
      "text/html": [
       "<pre style=\"white-space:pre;overflow-x:auto;line-height:normal;font-family:Menlo,'DejaVu Sans Mono',consolas,'Courier New',monospace\"><span style=\"font-weight: bold\"> Trainable params: </span><span style=\"color: #00af00; text-decoration-color: #00af00\">1,313,025</span> (5.01 MB)\n",
       "</pre>\n"
      ],
      "text/plain": [
       "\u001b[1m Trainable params: \u001b[0m\u001b[38;5;34m1,313,025\u001b[0m (5.01 MB)\n"
      ]
     },
     "metadata": {},
     "output_type": "display_data"
    },
    {
     "data": {
      "text/html": [
       "<pre style=\"white-space:pre;overflow-x:auto;line-height:normal;font-family:Menlo,'DejaVu Sans Mono',consolas,'Courier New',monospace\"><span style=\"font-weight: bold\"> Non-trainable params: </span><span style=\"color: #00af00; text-decoration-color: #00af00\">0</span> (0.00 B)\n",
       "</pre>\n"
      ],
      "text/plain": [
       "\u001b[1m Non-trainable params: \u001b[0m\u001b[38;5;34m0\u001b[0m (0.00 B)\n"
      ]
     },
     "metadata": {},
     "output_type": "display_data"
    },
    {
     "data": {
      "text/html": [
       "<pre style=\"white-space:pre;overflow-x:auto;line-height:normal;font-family:Menlo,'DejaVu Sans Mono',consolas,'Courier New',monospace\"><span style=\"font-weight: bold\"> Optimizer params: </span><span style=\"color: #00af00; text-decoration-color: #00af00\">2</span> (12.00 B)\n",
       "</pre>\n"
      ],
      "text/plain": [
       "\u001b[1m Optimizer params: \u001b[0m\u001b[38;5;34m2\u001b[0m (12.00 B)\n"
      ]
     },
     "metadata": {},
     "output_type": "display_data"
    }
   ],
   "source": [
    "# Load the pre-trained model with Tanh activation\n",
    "model = load_model('simple_rnn_imdb.h5')\n",
    "model.summary()"
   ]
  },
  {
   "cell_type": "code",
   "execution_count": 5,
   "metadata": {},
   "outputs": [
    {
     "data": {
      "text/plain": [
       "[array([[ 0.08822491, -0.09112109, -0.07381871, ..., -0.04271797,\n",
       "         -0.08301589, -0.16988814],\n",
       "        [-0.06116969, -0.00620031,  0.0281699 , ..., -0.07961363,\n",
       "          0.02046349,  0.00788582],\n",
       "        [ 0.02289313, -0.0550934 , -0.00172513, ..., -0.00785671,\n",
       "         -0.0204925 , -0.00201084],\n",
       "        ...,\n",
       "        [-0.06768049, -0.00780785, -0.00524754, ...,  0.02823873,\n",
       "          0.05907291,  0.06016584],\n",
       "        [ 0.01115095, -0.04538156, -0.03870594, ..., -0.07085156,\n",
       "         -0.01576097, -0.04362608],\n",
       "        [-0.06362678, -0.03338761,  0.05543299, ...,  0.02900745,\n",
       "          0.06223822,  0.05253264]], dtype=float32),\n",
       " array([[ 0.01904699, -0.00426316, -0.06259759, ...,  0.12792136,\n",
       "          0.02090718, -0.03657162],\n",
       "        [-0.03317934, -0.17670214, -0.2193727 , ..., -0.08248913,\n",
       "          0.29897624,  0.2509174 ],\n",
       "        [-0.00594497, -0.08014528, -0.03331688, ...,  0.0174791 ,\n",
       "          0.1941123 ,  0.09548917],\n",
       "        ...,\n",
       "        [ 0.08510756,  0.04681773,  0.1462425 , ..., -0.0040519 ,\n",
       "         -0.04858187, -0.0670476 ],\n",
       "        [-0.14277993, -0.2775478 , -0.07689481, ...,  0.03119071,\n",
       "          0.08581926,  0.12346089],\n",
       "        [-0.01934681, -0.18811028, -0.08000494, ...,  0.08415623,\n",
       "          0.28694722,  0.10220444]], dtype=float32),\n",
       " array([[ 0.07701459, -0.19736667, -0.08547661, ..., -0.03196109,\n",
       "          0.00073768,  0.02565349],\n",
       "        [ 0.02257467, -0.03017885,  0.04937067, ...,  0.02428285,\n",
       "          0.08165739,  0.08251914],\n",
       "        [-0.0219461 ,  0.09937518, -0.0214798 , ...,  0.21639985,\n",
       "         -0.09135994, -0.0867967 ],\n",
       "        ...,\n",
       "        [-0.12105577,  0.19484253, -0.07979205, ...,  0.04525933,\n",
       "          0.12219582,  0.11525286],\n",
       "        [-0.06928593,  0.06604007, -0.14518824, ...,  0.03453698,\n",
       "          0.02403532,  0.12091778],\n",
       "        [ 0.03451822,  0.03340434,  0.00032873, ...,  0.0070364 ,\n",
       "          0.04249428,  0.08017196]], dtype=float32),\n",
       " array([-0.02080297,  0.0170148 , -0.015285  ,  0.01929315,  0.02897508,\n",
       "        -0.02431886,  0.03627997,  0.01931167, -0.00906763, -0.01556748,\n",
       "        -0.01551592, -0.02991204,  0.02632879,  0.01179812,  0.01512191,\n",
       "         0.02697038, -0.00785203, -0.01291523, -0.01992348, -0.00829942,\n",
       "        -0.03513083, -0.00208845,  0.03570057, -0.00185619,  0.01647762,\n",
       "         0.00513823,  0.02766993,  0.03455789, -0.00015843,  0.00570758,\n",
       "         0.03075397, -0.00568572,  0.02244285,  0.02991531,  0.01083002,\n",
       "        -0.01655436,  0.01891175,  0.0333465 ,  0.03827739, -0.04516968,\n",
       "        -0.03420214,  0.00641359, -0.00898113,  0.03066395, -0.02796037,\n",
       "         0.02202298, -0.01775639, -0.0019161 ,  0.01416633, -0.00725057,\n",
       "         0.00360579,  0.00782743, -0.00928059,  0.02966488,  0.00200634,\n",
       "         0.00313496, -0.01277451,  0.03025132, -0.01699688,  0.01810137,\n",
       "         0.01438258,  0.03737308,  0.01504469,  0.01104971, -0.00243644,\n",
       "        -0.03516658, -0.01001438, -0.00109931,  0.00730211, -0.0151711 ,\n",
       "        -0.06140581, -0.00882052, -0.0102889 , -0.03284198,  0.01288376,\n",
       "        -0.01200766,  0.00020214, -0.01414772,  0.02253106,  0.02771213,\n",
       "        -0.0132777 , -0.01746894,  0.00881544,  0.04324982,  0.02440504,\n",
       "         0.03034267, -0.01146215,  0.0339434 ,  0.01152352,  0.00471922,\n",
       "        -0.01829209, -0.03362386,  0.00680838, -0.00550366, -0.01998955,\n",
       "        -0.03958182,  0.00511691,  0.01918934, -0.0143574 , -0.03104692,\n",
       "         0.02664477, -0.01603803, -0.04215674, -0.03273652,  0.00107882,\n",
       "        -0.01979839, -0.00492533,  0.00765987,  0.033933  ,  0.0118844 ,\n",
       "        -0.06611196,  0.01829503,  0.03009458,  0.02159151,  0.02174223,\n",
       "        -0.03361778, -0.0318715 , -0.05786654,  0.02349005,  0.01864661,\n",
       "         0.02249376, -0.02217894,  0.01125622,  0.02568708,  0.00264737,\n",
       "        -0.01961206, -0.00909659, -0.01683723], dtype=float32),\n",
       " array([[-1.51995540e-01],\n",
       "        [-4.10709232e-02],\n",
       "        [-1.57115072e-01],\n",
       "        [-3.41581069e-02],\n",
       "        [-6.32410273e-02],\n",
       "        [-1.72694504e-01],\n",
       "        [ 8.56886506e-02],\n",
       "        [-1.07089989e-01],\n",
       "        [-1.56220779e-01],\n",
       "        [ 1.27067193e-01],\n",
       "        [-7.20767006e-02],\n",
       "        [-1.02972880e-01],\n",
       "        [ 3.47650796e-02],\n",
       "        [ 1.04535855e-01],\n",
       "        [-1.05525307e-01],\n",
       "        [-6.67137727e-02],\n",
       "        [-5.43077402e-02],\n",
       "        [ 4.29379307e-02],\n",
       "        [-2.40747735e-01],\n",
       "        [-8.73356685e-02],\n",
       "        [-1.18052177e-01],\n",
       "        [-1.68798029e-01],\n",
       "        [-7.60712773e-02],\n",
       "        [ 9.01974812e-02],\n",
       "        [ 3.56140360e-02],\n",
       "        [-4.26766602e-03],\n",
       "        [ 1.61173970e-01],\n",
       "        [-4.32796814e-02],\n",
       "        [-8.78354255e-03],\n",
       "        [ 1.52803972e-01],\n",
       "        [ 1.23389460e-01],\n",
       "        [ 1.34371266e-01],\n",
       "        [ 5.03950343e-02],\n",
       "        [-7.62432665e-02],\n",
       "        [-2.87896693e-02],\n",
       "        [-5.14863767e-02],\n",
       "        [-3.37924510e-02],\n",
       "        [-4.29243594e-02],\n",
       "        [ 2.01306045e-01],\n",
       "        [-1.50265396e-01],\n",
       "        [ 8.00884664e-02],\n",
       "        [-4.31027263e-02],\n",
       "        [-2.14344319e-02],\n",
       "        [ 4.55282368e-02],\n",
       "        [ 8.64480138e-02],\n",
       "        [-7.29951560e-02],\n",
       "        [-8.59462749e-03],\n",
       "        [ 1.10494033e-01],\n",
       "        [-1.34483073e-02],\n",
       "        [ 1.14831768e-01],\n",
       "        [-3.53447013e-02],\n",
       "        [ 8.61008316e-02],\n",
       "        [ 6.23899372e-03],\n",
       "        [-9.25647914e-02],\n",
       "        [ 1.68736860e-01],\n",
       "        [-5.18646352e-02],\n",
       "        [-3.35941762e-02],\n",
       "        [ 2.62819286e-02],\n",
       "        [-9.97005869e-03],\n",
       "        [ 5.00054099e-02],\n",
       "        [-1.10181794e-01],\n",
       "        [-1.63733587e-01],\n",
       "        [ 1.07125923e-01],\n",
       "        [ 4.90369799e-04],\n",
       "        [-1.10962063e-01],\n",
       "        [ 6.89140484e-02],\n",
       "        [ 7.15901777e-02],\n",
       "        [ 2.88199242e-02],\n",
       "        [-1.30361080e-01],\n",
       "        [ 1.51545748e-01],\n",
       "        [ 2.70840600e-02],\n",
       "        [ 2.27814857e-02],\n",
       "        [-1.94919020e-01],\n",
       "        [-3.50744948e-02],\n",
       "        [ 1.30415736e-02],\n",
       "        [ 8.92893896e-02],\n",
       "        [-2.34788880e-02],\n",
       "        [-1.15592144e-02],\n",
       "        [-3.59347910e-02],\n",
       "        [ 1.11678302e-01],\n",
       "        [-7.32187033e-02],\n",
       "        [ 3.36087472e-03],\n",
       "        [ 1.53807491e-01],\n",
       "        [-5.82448617e-02],\n",
       "        [ 7.38685280e-02],\n",
       "        [ 5.91893755e-02],\n",
       "        [-6.36175051e-02],\n",
       "        [-2.33836181e-04],\n",
       "        [ 4.92731519e-02],\n",
       "        [ 5.57683632e-02],\n",
       "        [ 1.55240595e-01],\n",
       "        [ 2.77184278e-01],\n",
       "        [-2.36790001e-01],\n",
       "        [ 2.63321340e-01],\n",
       "        [-2.19037265e-01],\n",
       "        [-5.31244129e-02],\n",
       "        [-2.89429147e-02],\n",
       "        [-5.35627156e-02],\n",
       "        [ 9.52399969e-02],\n",
       "        [ 1.04727283e-01],\n",
       "        [ 1.83709577e-01],\n",
       "        [ 2.45300066e-02],\n",
       "        [-9.71114561e-02],\n",
       "        [ 1.51307900e-02],\n",
       "        [-5.90281449e-02],\n",
       "        [-1.51495695e-01],\n",
       "        [ 7.09997639e-02],\n",
       "        [-2.31194459e-02],\n",
       "        [-1.16176143e-01],\n",
       "        [-5.77507503e-02],\n",
       "        [ 9.38884739e-04],\n",
       "        [-1.17402121e-01],\n",
       "        [ 1.07271031e-01],\n",
       "        [-9.97776315e-02],\n",
       "        [-1.02084905e-01],\n",
       "        [ 8.95207524e-02],\n",
       "        [ 1.38375103e-01],\n",
       "        [ 4.91152257e-02],\n",
       "        [ 2.49519311e-02],\n",
       "        [-2.34304368e-01],\n",
       "        [-8.81786421e-02],\n",
       "        [-1.25075793e-02],\n",
       "        [-7.16198459e-02],\n",
       "        [-1.49975896e-01],\n",
       "        [-4.08042371e-02],\n",
       "        [ 1.52439531e-02],\n",
       "        [ 1.44754186e-01],\n",
       "        [ 5.80114871e-02]], dtype=float32),\n",
       " array([-0.04722795], dtype=float32)]"
      ]
     },
     "execution_count": 5,
     "metadata": {},
     "output_type": "execute_result"
    }
   ],
   "source": [
    "model.get_weights()"
   ]
  },
  {
   "cell_type": "code",
   "execution_count": 4,
   "metadata": {},
   "outputs": [],
   "source": [
    "# Helper Functions\n",
    "\n",
    "# Function to Decode Reviews\n",
    "def decode_review(encoded_review):\n",
    "    return ' '.join([reverse_word_index.get(i - 3, '?') for i in encoded_review])\n",
    "\n",
    "# Function to preprocess user input\n",
    "def preprocess_text(text):\n",
    "    words = text.lower().split()\n",
    "    encoded_review = [word_index.get(word, 2) + 3 for word in words]\n",
    "    padded_review = sequence.pad_sequences([encoded_review], maxlen=500)\n",
    "    return padded_review"
   ]
  },
  {
   "cell_type": "code",
   "execution_count": 10,
   "metadata": {},
   "outputs": [],
   "source": [
    "## Prediction Function\n",
    "\n",
    "def predict_sentiment(review):\n",
    "    preprocessed_input = preprocess_text(review)\n",
    "    prediction = model.predict(preprocessed_input)\n",
    "\n",
    "    sentiment = 'Positive' if prediction[0][0] > 0.5 else 'Negative'\n",
    "\n",
    "    return sentiment, prediction[0][0]\n"
   ]
  },
  {
   "cell_type": "code",
   "execution_count": 12,
   "metadata": {},
   "outputs": [
    {
     "name": "stdout",
     "output_type": "stream",
     "text": [
      "\u001b[1m1/1\u001b[0m \u001b[32m━━━━━━━━━━━━━━━━━━━━\u001b[0m\u001b[37m\u001b[0m \u001b[1m0s\u001b[0m 81ms/step\n",
      "Review: This movie was bad\n",
      "Sentiment: Negative\n",
      "Prediction Score: 1.2444242258879967e-07\n"
     ]
    }
   ],
   "source": [
    "## User input and prediction\n",
    "# Example review for prediction\n",
    "example_review = \"This movie was bad\"\n",
    "\n",
    "sentiment, score = predict_sentiment(example_review)\n",
    "\n",
    "print(f'Review: {example_review}')\n",
    "print(f'Sentiment: {sentiment}')\n",
    "print(f'Prediction Score: {score}')"
   ]
  },
  {
   "cell_type": "code",
   "execution_count": null,
   "metadata": {},
   "outputs": [],
   "source": []
  }
 ],
 "metadata": {
  "kernelspec": {
   "display_name": "myenv",
   "language": "python",
   "name": "python3"
  },
  "language_info": {
   "codemirror_mode": {
    "name": "ipython",
    "version": 3
   },
   "file_extension": ".py",
   "mimetype": "text/x-python",
   "name": "python",
   "nbconvert_exporter": "python",
   "pygments_lexer": "ipython3",
   "version": "3.11.0"
  }
 },
 "nbformat": 4,
 "nbformat_minor": 2
}
